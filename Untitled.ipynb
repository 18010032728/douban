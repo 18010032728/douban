{
 "cells": [
  {
   "cell_type": "code",
   "execution_count": 49,
   "metadata": {},
   "outputs": [
    {
     "name": "stdout",
     "output_type": "stream",
     "text": [
      "名字\t导演\t主演\t类型\t上映时间\t\n",
      "来电狂响\t于淼\t佟大为\t剧情\t2018-12-28(中国大陆)\n",
      "海王 Aquaman\t温子仁\t杰森·莫玛\t动作\t2018-12-07(中国大陆)\n",
      "天气预爆\t肖央\t肖央\t喜剧\t2018-12-21(中国大陆)\n",
      "印度暴徒 Thugs of Hindostan\t维贾伊·克利须那·阿查里雅\t阿米尔·汗\t喜剧\t2018-12-28(中国大陆)\n",
      "武林怪兽\t刘伟强\t古天乐\t喜剧\t2018-12-21(中国大陆)\n",
      "蜘蛛侠：平行宇宙 Spider-Man: Into the Spider-Verse\t鲍勃·佩尔西凯蒂\t沙梅克·摩尔\t动作\t2018-12-21(中国大陆)\n",
      "叶问外传：张天志 葉問外傳：張天志\t袁和平\t张晋\t剧情\t2018-12-21(中国大陆)\n",
      "神探狗笨吉 Benji\t布兰登·坎普\t加布里埃尔·贝特曼\t剧情\t2018-12-28(中国大陆)\n",
      "龙猫 となりのトトロ\t宫崎骏\t日高法子\t动画\t2018-12-14(中国大陆)\n",
      "无名之辈\t饶晓志\t陈建斌\t剧情\t2018-11-16(中国大陆)\n",
      "毒液：致命守护者 Venom\t鲁本·弗雷斯彻\t汤姆·哈迪\t动作\t2018-11-09(中国大陆)\n",
      "午夜整容室\t曹志鹏\t赖晶晶\t惊悚\t2018-12-14(中国大陆)\n",
      "狗十三\t曹保平\t张雪迎\t剧情\t2018-12-07(中国大陆)\n",
      "印度合伙人 Padman\tR·巴尔基\t阿克谢·库玛尔\t剧情\t2018-12-14(中国大陆)\n",
      "绿毛怪格林奇 The Grinch\t亚罗·切尼\t本尼迪克特·康伯巴奇\t喜剧\t2018-12-14(中国大陆)\n"
     ]
    },
    
   ],
   "source": [
    "import requests\n",
    "from bs4 import BeautifulSoup\n",
    "\n",
    "url=\"https://movie.douban.com/cinema/nowplaying/baoding/\"\n",
    "response=requests.get(url)\n",
    "#print(response.text)\n",
    "soup=BeautifulSoup(response.text,'lxml')\n",
    "div=soup.find('div',class_='mod-bd')\n",
    "#print(div)\n",
    "#a=div.find_all('a')['href']\n",
    "lis=div.find_all('li',class_='poster')\n",
    "#print(li)\n",
    "print('名字\\t导演\\t主演\\t类型\\t上映时间\\t')\n",
    "for li in lis:\n",
    "    info_url=li.find('a')['href']\n",
    "    #print(a)\n",
    "    response=requests.get(info_url)\n",
    "    info_soup=BeautifulSoup(response.text,'lxml')\n",
    "    info_name=info_soup.find('span',property=\"v:itemreviewed\").text\n",
    "    #print(info_name)\n",
    "    info_div=info_soup.find('div',id='info')\n",
    "    #print(info_div)\n",
    "    info_doya=info_div.find('a',rel=\"v:directedBy\").text\n",
    "    #print(info_doya)\n",
    "    info_actor=info_div.find('a',rel=\"v:starring\").text\n",
    "    #print(info_actor)\n",
    "    info_type=info_div.find('span',property=\"v:genre\").text\n",
    "    #print(info_type)\n",
    "    info_date=info_div.find('span',property=\"v:initialReleaseDate\").text\n",
    "    #print(info_date)\n",
    "    print(info_name+\"\\t\"+info_doya+\"\\t\"+info_actor+\"\\t\"+info_type+\"\\t\"+info_date)"
   ]
  },
  
   ],
   "source": [
    "import requests\n",
    "from bs4 import BeautifulSoup\n",
    "\n",
    "url=\"https://movie.douban.com/cinema/nowplaying/baoding/\"\n",
    "response=requests.get(url)\n",
    "soup=BeautifulSoup(response.text,'lxml')\n",
    "div=soup.find('div',class_='mod-bd')\n",
    "lis=div.find_all('li',class_='poster')\n",
    "print('名字\\t\\t导演\\t主演\\t类型\\t上映时间\\t')\n",
    "try:\n",
    "    for li in lis:\n",
    "        info_url=li.find('a')['href']\n",
    "        response=requests.get(info_url)\n",
    "        info_soup=BeautifulSoup(response.text,'lxml')\n",
    "        info_name=info_soup.find('span',property=\"v:itemreviewed\").text\n",
    "        info_div=info_soup.find('div',id='info')\n",
    "        info_doya=info_div.find('a',rel=\"v:directedBy\").text\n",
    "        info_actor=info_div.find('a',rel=\"v:starring\").text\n",
    "        info_type=info_div.find('span',property=\"v:genre\").text\n",
    "        info_date=info_div.find('span',property=\"v:initialReleaseDate\").text\n",
    "        print(info_name+\"\\t\"+info_doya+\"\\t\"+info_actor+\"\\t\"+info_type+\"\\t\"+info_date)\n",
    "        print(info_url)\n",
    "except AttributeError:\n",
    "    print(\"'NoneType' object has no attribute 'text'\")\n",
    "    "
   ]
  },
  {
   "cell_type": "code",
   "execution_count": 66,
   "metadata": {},
   "outputs": [
    {
     "name": "stdout",
     "output_type": "stream",
     "text": [
      "名字\t\t导演\t主演\t类型\t上映时间\t\n",
      "<li class=\"poster\">\n",
      "<a class=\"ticket-btn\" data-psource=\"poster\" href=\"https://movie.douban.com/subject/30377703/?from=playing_poster\" target=\"_blank\">\n",
      "<img alt=\"来电狂响\" class=\"\" rel=\"nofollow\" src=\"https://img1.doubanio.com/view/photo/s_ratio_poster/public/p2542268337.jpg\"/>\n",
      "</a>\n",
      "</li>\n",
      "https://movie.douban.com/subject/30377703/?from=playing_poster\n",
      "<li class=\"poster\">\n",
      "<a class=\"ticket-btn\" data-psource=\"poster\" href=\"https://movie.douban.com/subject/3878007/?from=playing_poster\" target=\"_blank\">\n",
      "<img alt=\"海王\" class=\"\" rel=\"nofollow\" src=\"https://img1.doubanio.com/view/photo/s_ratio_poster/public/p2541280047.jpg\"/>\n",
      "</a>\n",
      "</li>\n",
      "https://movie.douban.com/subject/3878007/?from=playing_poster\n",
      "<li class=\"poster\">\n",
      "<a class=\"ticket-btn\" data-psource=\"poster\" href=\"https://movie.douban.com/subject/26994789/?from=playing_poster\" target=\"_blank\">\n",
      "<img alt=\"天气预爆\" class=\"\" rel=\"nofollow\" src=\"https://img3.doubanio.com/view/photo/s_ratio_poster/public/p2543353290.jpg\"/>\n",
      "</a>\n",
      "</li>\n",
      "https://movie.douban.com/subject/26994789/?from=playing_poster\n",
      "<li class=\"poster\">\n",
      "<a class=\"ticket-btn\" data-psource=\"poster\" href=\"https://movie.douban.com/subject/27019982/?from=playing_poster\" target=\"_blank\">\n",
      "<img alt=\"印度暴徒\" class=\"\" rel=\"nofollow\" src=\"https://img3.doubanio.com/view/photo/s_ratio_poster/public/p2541754700.jpg\"/>\n",
      "</a>\n",
      "</li>\n",
      "https://movie.douban.com/subject/27019982/?from=playing_poster\n",
      "<li class=\"poster\">\n",
      "<a class=\"ticket-btn\" data-psource=\"poster\" href=\"https://movie.douban.com/subject/26425062/?from=playing_poster\" target=\"_blank\">\n",
      "<img alt=\"武林怪兽\" class=\"\" rel=\"nofollow\" src=\"https://img3.doubanio.com/view/photo/s_ratio_poster/public/p2540374845.jpg\"/>\n",
      "</a>\n",
      "</li>\n",
      "https://movie.douban.com/subject/26425062/?from=playing_poster\n",
      "<li class=\"poster\">\n",
      "<a class=\"ticket-btn\" data-psource=\"poster\" href=\"https://movie.douban.com/subject/26374197/?from=playing_poster\" target=\"_blank\">\n",
      "<img alt=\"蜘蛛侠：平行宇宙\" class=\"\" rel=\"nofollow\" src=\"https://img3.doubanio.com/view/photo/s_ratio_poster/public/p2542867516.jpg\"/>\n",
      "</a>\n",
      "</li>\n",
      "https://movie.douban.com/subject/26374197/?from=playing_poster\n",
      "<li class=\"poster\">\n",
      "<a class=\"ticket-btn\" data-psource=\"poster\" href=\"https://movie.douban.com/subject/26796664/?from=playing_poster\" target=\"_blank\">\n",
      "<img alt=\"叶问外传：张天志\" class=\"\" rel=\"nofollow\" src=\"https://img3.doubanio.com/view/photo/s_ratio_poster/public/p2542380253.jpg\"/>\n",
      "</a>\n",
      "</li>\n",
      "https://movie.douban.com/subject/26796664/?from=playing_poster\n",
      "<li class=\"poster\">\n",
      "<a class=\"ticket-btn\" data-psource=\"poster\" href=\"https://movie.douban.com/subject/26895438/?from=playing_poster\" target=\"_blank\">\n",
      "<img alt=\"神探狗笨吉\" class=\"\" rel=\"nofollow\" src=\"https://img3.doubanio.com/view/photo/s_ratio_poster/public/p2541725145.jpg\"/>\n",
      "</a>\n",
      "</li>\n",
      "https://movie.douban.com/subject/26895438/?from=playing_poster\n",
      "<li class=\"poster\">\n",
      "<a class=\"ticket-btn\" data-psource=\"poster\" href=\"https://movie.douban.com/subject/1291560/?from=playing_poster\" target=\"_blank\">\n",
      "<img alt=\"龙猫\" class=\"\" rel=\"nofollow\" src=\"https://img3.doubanio.com/view/photo/s_ratio_poster/public/p2540924496.jpg\"/>\n",
      "</a>\n",
      "</li>\n",
      "https://movie.douban.com/subject/1291560/?from=playing_poster\n",
      "<li class=\"poster\">\n",
      "<a class=\"ticket-btn\" data-psource=\"poster\" href=\"https://movie.douban.com/subject/27110296/?from=playing_poster\" target=\"_blank\">\n",
      "<img alt=\"无名之辈\" class=\"\" rel=\"nofollow\" src=\"https://img3.doubanio.com/view/photo/s_ratio_poster/public/p2539661066.jpg\"/>\n",
      "</a>\n",
      "</li>\n",
      "https://movie.douban.com/subject/27110296/?from=playing_poster\n",
      "<li class=\"poster\">\n",
      "<a class=\"ticket-btn\" data-psource=\"poster\" href=\"https://movie.douban.com/subject/3168101/?from=playing_poster\" target=\"_blank\">\n",
      "<img alt=\"毒液：致命守护者\" class=\"\" rel=\"nofollow\" src=\"https://img3.doubanio.com/view/photo/s_ratio_poster/public/p2537158013.jpg\"/>\n",
      "</a>\n",
      "</li>\n",
      "https://movie.douban.com/subject/3168101/?from=playing_poster\n",
      "<li class=\"poster\">\n",
      "<a class=\"ticket-btn\" data-psource=\"poster\" href=\"https://movie.douban.com/subject/30296766/?from=playing_poster\" target=\"_blank\">\n",
      "<img alt=\"午夜整容室\" class=\"\" rel=\"nofollow\" src=\"https://img3.doubanio.com/view/photo/s_ratio_poster/public/p2538063852.jpg\"/>\n",
      "</a>\n",
      "</li>\n",
      "https://movie.douban.com/subject/30296766/?from=playing_poster\n",
      "<li class=\"poster\">\n",
      "<a class=\"ticket-btn\" data-psource=\"poster\" href=\"https://movie.douban.com/subject/25716096/?from=playing_poster\" target=\"_blank\">\n",
      "<img alt=\"狗十三\" class=\"\" rel=\"nofollow\" src=\"https://img3.doubanio.com/view/photo/s_ratio_poster/public/p2540513831.jpg\"/>\n",
      "</a>\n",
      "</li>\n",
      "https://movie.douban.com/subject/25716096/?from=playing_poster\n",
      "<li class=\"poster\">\n",
      "<a class=\"ticket-btn\" data-psource=\"poster\" href=\"https://movie.douban.com/subject/27198855/?from=playing_poster\" target=\"_blank\">\n",
      "<img alt=\"印度合伙人\" class=\"\" rel=\"nofollow\" src=\"https://img3.doubanio.com/view/photo/s_ratio_poster/public/p2540940050.jpg\"/>\n",
      "</a>\n",
      "</li>\n",
      "https://movie.douban.com/subject/27198855/?from=playing_poster\n",
      "<li class=\"poster\">\n",
      "<a class=\"ticket-btn\" data-psource=\"poster\" href=\"https://movie.douban.com/subject/23774869/?from=playing_poster\" target=\"_blank\">\n",
      "<img alt=\"绿毛怪格林奇\" class=\"\" rel=\"nofollow\" src=\"https://img1.doubanio.com/view/photo/s_ratio_poster/public/p2539666559.jpg\"/>\n",
      "</a>\n",
      "</li>\n",
      "https://movie.douban.com/subject/23774869/?from=playing_poster\n",
      "<li class=\"poster\">\n",
      "<a class=\"ticket-btn\" data-psource=\"poster\" href=\"https://movie.douban.com/subject/30317053/?from=playing_poster\" target=\"_blank\">\n",
      "<img alt=\"超时空大冒险\" class=\"\" rel=\"nofollow\" src=\"https://img3.doubanio.com/view/photo/s_ratio_poster/public/p2541889601.jpg\"/>\n",
      "</a>\n",
      "</li>\n",
      "'NoneType' object has no attribute 'text'\n"
     ]
    }
   ],
   "source": [
    "import requests\n",
    "from bs4 import BeautifulSoup\n",
    "\n",
    "url=\"https://movie.douban.com/cinema/nowplaying/baoding/\"\n",
    "response=requests.get(url)\n",
    "soup=BeautifulSoup(response.text,'lxml')\n",
    "div=soup.find('div',class_='mod-bd')\n",
    "lis=div.find_all('li',class_='poster')\n",
    "print('名字\\t\\t导演\\t主演\\t类型\\t上映时间\\t')\n",
    "def movie_info(url):\n",
    "        response=requests.get(url)\n",
    "        soup=BeautifulSoup(response.text,'lxml')\n",
    "        info_name=soup.find('span',property=\"v:itemreviewed\").text\n",
    "        div=soup.find('div',id='info')\n",
    "        info_doya=div.find('a',rel=\"v:directedBy\").text\n",
    "        info_actor=div.find('a',rel=\"v:starring\").text\n",
    "        info_type=div.find('span',property=\"v:genre\").text\n",
    "        info_date=div.find('span',property=\"v:initialReleaseDate\").text\n",
    "        #print(info_name+\"\\t\")\n",
    "        print(url)\n",
    "try:\n",
    "    for li in lis:\n",
    "        print(li)\n",
    "        info_url=li.find('a')['href']\n",
    "        movie_info(info_url)\n",
    "except AttributeError:\n",
    "    print(\"'NoneType' object has no attribute 'text'\")\n",
    "else:\n",
    "    print(\"执行完毕\")\n"
   ]
  },
  {
   "cell_type": "code",
   "execution_count": 69,
   "metadata": {},
   "outputs": [
    {
     "name": "stdout",
     "output_type": "stream",
     "text": [
      "来电狂响\t于淼\t佟大为\t剧情\t2018-12-28(中国大陆)\n",
      "海王 Aquaman\t温子仁\t杰森·莫玛\t动作\t2018-12-07(中国大陆)\n",
      "天气预爆\t肖央\t肖央\t喜剧\t2018-12-21(中国大陆)\n",
      "印度暴徒 Thugs of Hindostan\t维贾伊·克利须那·阿查里雅\t阿米尔·汗\t喜剧\t2018-12-28(中国大陆)\n",
      "武林怪兽\t刘伟强\t古天乐\t喜剧\t2018-12-21(中国大陆)\n",
      "蜘蛛侠：平行宇宙 Spider-Man: Into the Spider-Verse\t鲍勃·佩尔西凯蒂\t沙梅克·摩尔\t动作\t2018-12-21(中国大陆)\n",
      "叶问外传：张天志 葉問外傳：張天志\t袁和平\t张晋\t剧情\t2018-12-21(中国大陆)\n",
      "神探狗笨吉 Benji\t布兰登·坎普\t加布里埃尔·贝特曼\t剧情\t2018-12-28(中国大陆)\n",
      "龙猫 となりのトトロ\t宫崎骏\t日高法子\t动画\t2018-12-14(中国大陆)\n",
      "无名之辈\t饶晓志\t陈建斌\t剧情\t2018-11-16(中国大陆)\n",
      "毒液：致命守护者 Venom\t鲁本·弗雷斯彻\t汤姆·哈迪\t动作\t2018-11-09(中国大陆)\n",
      "午夜整容室\t曹志鹏\t赖晶晶\t惊悚\t2018-12-14(中国大陆)\n",
      "狗十三\t曹保平\t张雪迎\t剧情\t2018-12-07(中国大陆)\n",
      "印度合伙人 Padman\tR·巴尔基\t阿克谢·库玛尔\t剧情\t2018-12-14(中国大陆)\n",
      "绿毛怪格林奇 The Grinch\t亚罗·切尼\t本尼迪克特·康伯巴奇\t喜剧\t2018-12-14(中国大陆)\n"
     ]
    },
    {
     "ename": "AttributeError",
     "evalue": "'NoneType' object has no attribute 'text'",
     "output_type": "error",
     "traceback": [
      "\u001b[1;31m---------------------------------------------------------------------------\u001b[0m",
      "\u001b[1;31mAttributeError\u001b[0m                            Traceback (most recent call last)",
      "\u001b[1;32m<ipython-input-69-0506a472c20a>\u001b[0m in \u001b[0;36m<module>\u001b[1;34m()\u001b[0m\n\u001b[0;32m     17\u001b[0m     \u001b[0minfo_doya\u001b[0m\u001b[1;33m=\u001b[0m\u001b[0minfo_div\u001b[0m\u001b[1;33m.\u001b[0m\u001b[0mfind\u001b[0m\u001b[1;33m(\u001b[0m\u001b[1;34m'a'\u001b[0m\u001b[1;33m,\u001b[0m\u001b[0mrel\u001b[0m\u001b[1;33m=\u001b[0m\u001b[1;34m\"v:directedBy\"\u001b[0m\u001b[1;33m)\u001b[0m\u001b[1;33m.\u001b[0m\u001b[0mtext\u001b[0m\u001b[1;33m\u001b[0m\u001b[0m\n\u001b[0;32m     18\u001b[0m     \u001b[1;31m#print(info_doya)\u001b[0m\u001b[1;33m\u001b[0m\u001b[1;33m\u001b[0m\u001b[0m\n\u001b[1;32m---> 19\u001b[1;33m     \u001b[0minfo_actor\u001b[0m\u001b[1;33m=\u001b[0m\u001b[0minfo_div\u001b[0m\u001b[1;33m.\u001b[0m\u001b[0mfind\u001b[0m\u001b[1;33m(\u001b[0m\u001b[1;34m'a'\u001b[0m\u001b[1;33m,\u001b[0m\u001b[0mrel\u001b[0m\u001b[1;33m=\u001b[0m\u001b[1;34m\"v:starring\"\u001b[0m\u001b[1;33m)\u001b[0m\u001b[1;33m.\u001b[0m\u001b[0mtext\u001b[0m\u001b[1;33m\u001b[0m\u001b[0m\n\u001b[0m\u001b[0;32m     20\u001b[0m     \u001b[1;31m#print(info_actor)\u001b[0m\u001b[1;33m\u001b[0m\u001b[1;33m\u001b[0m\u001b[0m\n\u001b[0;32m     21\u001b[0m     \u001b[0minfo_type\u001b[0m\u001b[1;33m=\u001b[0m\u001b[0minfo_div\u001b[0m\u001b[1;33m.\u001b[0m\u001b[0mfind\u001b[0m\u001b[1;33m(\u001b[0m\u001b[1;34m'span'\u001b[0m\u001b[1;33m,\u001b[0m\u001b[0mproperty\u001b[0m\u001b[1;33m=\u001b[0m\u001b[1;34m\"v:genre\"\u001b[0m\u001b[1;33m)\u001b[0m\u001b[1;33m.\u001b[0m\u001b[0mtext\u001b[0m\u001b[1;33m\u001b[0m\u001b[0m\n",
      "\u001b[1;31mAttributeError\u001b[0m: 'NoneType' object has no attribute 'text'"
     ]
    }
   ],
   "source": [
    "import requests\n",
    "from bs4 import BeautifulSoup\n",
    "\n",
    "url=\"https://movie.douban.com/cinema/nowplaying/baoding/\"\n",
    "response=requests.get(url)\n",
    "soup=BeautifulSoup(response.text,'lxml')\n",
    "lis=soup.find_all('li',class_='poster')\n",
    "for li in lis:\n",
    "    info_url=li.find('a')['href']\n",
    "    #print(a)\n",
    "    response=requests.get(info_url)\n",
    "    info_soup=BeautifulSoup(response.text,'lxml')\n",
    "    info_name=info_soup.find('span',property=\"v:itemreviewed\").text\n",
    "    #print(info_name)\n",
    "    info_div=info_soup.find('div',id='info')\n",
    "    #print(info_div)\n",
    "    info_doya=info_div.find('a',rel=\"v:directedBy\").text\n",
    "    #print(info_doya)\n",
    "    info_actor=info_div.find('a',rel=\"v:starring\").text\n",
    "    #print(info_actor)\n",
    "    info_type=info_div.find('span',property=\"v:genre\").text\n",
    "    #print(info_type)\n",
    "    info_date=info_div.find('span',property=\"v:initialReleaseDate\").text\n",
    "    #print(info_date)\n",
    "    print(info_name+\"\\t\"+info_doya+\"\\t\"+info_actor+\"\\t\"+info_type+\"\\t\"+info_date)"
   ]
  },
  {
   "cell_type": "code",
   "execution_count": null,
   "metadata": {
    "collapsed": true
   },
   "outputs": [],
   "source": []
  },
  {
   "cell_type": "code",
   "execution_count": null,
   "metadata": {
    "collapsed": true
   },
   "outputs": [],
   "source": []
  },
  {
   "cell_type": "code",
   "execution_count": null,
   "metadata": {
    "collapsed": true
   },
   "outputs": [],
   "source": []
  },
  {
   "cell_type": "code",
   "execution_count": null,
   "metadata": {
    "collapsed": true
   },
   "outputs": [],
   "source": []
  },
  {
   "cell_type": "code",
   "execution_count": null,
   "metadata": {
    "collapsed": true
   },
   "outputs": [],
   "source": []
  },
  {
   "cell_type": "code",
   "execution_count": null,
   "metadata": {
    "collapsed": true
   },
   "outputs": [],
   "source": []
  },
  {
   "cell_type": "code",
   "execution_count": null,
   "metadata": {
    "collapsed": true
   },
   "outputs": [],
   "source": []
  },
  {
   "cell_type": "code",
   "execution_count": null,
   "metadata": {
    "collapsed": true
   },
   "outputs": [],
   "source": []
  },
  {
   "cell_type": "code",
   "execution_count": null,
   "metadata": {
    "collapsed": true
   },
   "outputs": [],
   "source": []
  },
  {
   "cell_type": "code",
   "execution_count": null,
   "metadata": {
    "collapsed": true
   },
   "outputs": [],
   "source": []
  },
  {
   "cell_type": "code",
   "execution_count": null,
   "metadata": {
    "collapsed": true
   },
   "outputs": [],
   "source": []
  },
  {
   "cell_type": "code",
   "execution_count": null,
   "metadata": {
    "collapsed": true
   },
   "outputs": [],
   "source": []
  },
  {
   "cell_type": "code",
   "execution_count": null,
   "metadata": {
    "collapsed": true
   },
   "outputs": [],
   "source": []
  },
  {
   "cell_type": "code",
   "execution_count": null,
   "metadata": {
    "collapsed": true
   },
   "outputs": [],
   "source": []
  },
  {
   "cell_type": "code",
   "execution_count": null,
   "metadata": {
    "collapsed": true
   },
   "outputs": [],
   "source": []
  },
  {
   "cell_type": "code",
   "execution_count": null,
   "metadata": {
    "collapsed": true
   },
   "outputs": [],
   "source": []
  },
  {
   "cell_type": "code",
   "execution_count": null,
   "metadata": {
    "collapsed": true
   },
   "outputs": [],
   "source": []
  },
  {
   "cell_type": "code",
   "execution_count": null,
   "metadata": {
    "collapsed": true
   },
   "outputs": [],
   "source": []
  },
  {
   "cell_type": "code",
   "execution_count": null,
   "metadata": {
    "collapsed": true
   },
   "outputs": [],
   "source": []
  },
  {
   "cell_type": "code",
   "execution_count": null,
   "metadata": {
    "collapsed": true
   },
   "outputs": [],
   "source": []
  },
  {
   "cell_type": "code",
   "execution_count": null,
   "metadata": {
    "collapsed": true
   },
   "outputs": [],
   "source": []
  },
  {
   "cell_type": "code",
   "execution_count": null,
   "metadata": {
    "collapsed": true
   },
   "outputs": [],
   "source": []
  },
  {
   "cell_type": "code",
   "execution_count": null,
   "metadata": {
    "collapsed": true
   },
   "outputs": [],
   "source": []
  },
  {
   "cell_type": "code",
   "execution_count": null,
   "metadata": {
    "collapsed": true
   },
   "outputs": [],
   "source": []
  },
  {
   "cell_type": "code",
   "execution_count": null,
   "metadata": {
    "collapsed": true
   },
   "outputs": [],
   "source": []
  },
  {
   "cell_type": "code",
   "execution_count": null,
   "metadata": {
    "collapsed": true
   },
   "outputs": [],
   "source": []
  },
  {
   "cell_type": "code",
   "execution_count": null,
   "metadata": {
    "collapsed": true
   },
   "outputs": [],
   "source": []
  },
  {
   "cell_type": "code",
   "execution_count": null,
   "metadata": {
    "collapsed": true
   },
   "outputs": [],
   "source": []
  },
  {
   "cell_type": "code",
   "execution_count": null,
   "metadata": {
    "collapsed": true
   },
   "outputs": [],
   "source": []
  },
  {
   "cell_type": "code",
   "execution_count": null,
   "metadata": {
    "collapsed": true
   },
   "outputs": [],
   "source": []
  },
  {
   "cell_type": "code",
   "execution_count": null,
   "metadata": {
    "collapsed": true
   },
   "outputs": [],
   "source": []
  },
  {
   "cell_type": "code",
   "execution_count": null,
   "metadata": {
    "collapsed": true
   },
   "outputs": [],
   "source": []
  },
  {
   "cell_type": "code",
   "execution_count": null,
   "metadata": {
    "collapsed": true
   },
   "outputs": [],
   "source": []
  },
  {
   "cell_type": "code",
   "execution_count": null,
   "metadata": {
    "collapsed": true
   },
   "outputs": [],
   "source": []
  },
  {
   "cell_type": "code",
   "execution_count": null,
   "metadata": {
    "collapsed": true
   },
   "outputs": [],
   "source": []
  },
  {
   "cell_type": "code",
   "execution_count": null,
   "metadata": {
    "collapsed": true
   },
   "outputs": [],
   "source": []
  },
  {
   "cell_type": "code",
   "execution_count": null,
   "metadata": {
    "collapsed": true
   },
   "outputs": [],
   "source": []
  },
  {
   "cell_type": "code",
   "execution_count": null,
   "metadata": {
    "collapsed": true
   },
   "outputs": [],
   "source": []
  },
  {
   "cell_type": "code",
   "execution_count": null,
   "metadata": {
    "collapsed": true
   },
   "outputs": [],
   "source": []
  },
  {
   "cell_type": "code",
   "execution_count": null,
   "metadata": {
    "collapsed": true
   },
   "outputs": [],
   "source": []
  },
  {
   "cell_type": "code",
   "execution_count": null,
   "metadata": {
    "collapsed": true
   },
   "outputs": [],
   "source": []
  },
  {
   "cell_type": "code",
   "execution_count": null,
   "metadata": {
    "collapsed": true
   },
   "outputs": [],
   "source": []
  },
  {
   "cell_type": "code",
   "execution_count": null,
   "metadata": {
    "collapsed": true
   },
   "outputs": [],
   "source": []
  },
  {
   "cell_type": "code",
   "execution_count": null,
   "metadata": {
    "collapsed": true
   },
   "outputs": [],
   "source": []
  },
  {
   "cell_type": "code",
   "execution_count": null,
   "metadata": {
    "collapsed": true
   },
   "outputs": [],
   "source": []
  },
  {
   "cell_type": "code",
   "execution_count": null,
   "metadata": {
    "collapsed": true
   },
   "outputs": [],
   "source": []
  },
  {
   "cell_type": "code",
   "execution_count": null,
   "metadata": {
    "collapsed": true
   },
   "outputs": [],
   "source": []
  },
  {
   "cell_type": "code",
   "execution_count": null,
   "metadata": {
    "collapsed": true
   },
   "outputs": [],
   "source": []
  },
  {
   "cell_type": "code",
   "execution_count": null,
   "metadata": {
    "collapsed": true
   },
   "outputs": [],
   "source": []
  },
  {
   "cell_type": "code",
   "execution_count": null,
   "metadata": {
    "collapsed": true
   },
   "outputs": [],
   "source": []
  },
  {
   "cell_type": "code",
   "execution_count": null,
   "metadata": {
    "collapsed": true
   },
   "outputs": [],
   "source": []
  },
  {
   "cell_type": "code",
   "execution_count": null,
   "metadata": {
    "collapsed": true
   },
   "outputs": [],
   "source": []
  },
  {
   "cell_type": "code",
   "execution_count": null,
   "metadata": {
    "collapsed": true
   },
   "outputs": [],
   "source": []
  },
  {
   "cell_type": "code",
   "execution_count": null,
   "metadata": {
    "collapsed": true
   },
   "outputs": [],
   "source": []
  },
  {
   "cell_type": "code",
   "execution_count": null,
   "metadata": {
    "collapsed": true
   },
   "outputs": [],
   "source": []
  },
  {
   "cell_type": "code",
   "execution_count": null,
   "metadata": {
    "collapsed": true
   },
   "outputs": [],
   "source": []
  },
  {
   "cell_type": "code",
   "execution_count": null,
   "metadata": {
    "collapsed": true
   },
   "outputs": [],
   "source": []
  },
  {
   "cell_type": "code",
   "execution_count": null,
   "metadata": {
    "collapsed": true
   },
   "outputs": [],
   "source": []
  },
  {
   "cell_type": "code",
   "execution_count": null,
   "metadata": {
    "collapsed": true
   },
   "outputs": [],
   "source": []
  },
  {
   "cell_type": "code",
   "execution_count": null,
   "metadata": {
    "collapsed": true
   },
   "outputs": [],
   "source": []
  },
  {
   "cell_type": "code",
   "execution_count": null,
   "metadata": {
    "collapsed": true
   },
   "outputs": [],
   "source": []
  },
  {
   "cell_type": "code",
   "execution_count": null,
   "metadata": {
    "collapsed": true
   },
   "outputs": [],
   "source": []
  },
  {
   "cell_type": "code",
   "execution_count": null,
   "metadata": {
    "collapsed": true
   },
   "outputs": [],
   "source": []
  },
  {
   "cell_type": "code",
   "execution_count": null,
   "metadata": {
    "collapsed": true
   },
   "outputs": [],
   "source": []
  }
 ],
 "metadata": {
  "kernelspec": {
   "display_name": "Python 3",
   "language": "python",
   "name": "python3"
  },
  "language_info": {
   "codemirror_mode": {
    "name": "ipython",
    "version": 3
   },
   "file_extension": ".py",
   "mimetype": "text/x-python",
   "name": "python",
   "nbconvert_exporter": "python",
   "pygments_lexer": "ipython3",
   "version": "3.6.2"
  }
 },
 "nbformat": 4,
 "nbformat_minor": 2
}
